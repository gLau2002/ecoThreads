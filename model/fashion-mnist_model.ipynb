{
 "cells": [
  {
   "cell_type": "code",
   "execution_count": 2,
   "id": "05741715",
   "metadata": {},
   "outputs": [],
   "source": [
    "#libraries\n",
    "import numpy as np\n",
    "import pandas as pd\n",
    "import math \n",
    "import itertools\n",
    "import sklearn\n",
    "import sklearn.metrics\n",
    "import sklearn.model_selection as sms\n",
    "import matplotlib\n",
    "import seaborn as sns\n",
    "\n",
    "import keras.models\n",
    "from tensorflow.python import keras\n",
    "from tensorflow.python.keras.models import Sequential\n",
    "from keras.layers import Dense, Conv2D, Activation, MaxPool2D, Flatten, Dropout, BatchNormalization\n",
    "from keras.optimizers import RMSprop,Adam\n",
    "from keras.preprocessing.image import ImageDataGenerator\n",
    "from keras.callbacks import LearningRateScheduler\n",
    "from keras.utils import to_categorical\n",
    "import tensorflow as tf\n"
   ]
  },
  {
   "cell_type": "code",
   "execution_count": 3,
   "id": "c4975cb9",
   "metadata": {},
   "outputs": [],
   "source": [
    "np.random.seed(69)"
   ]
  },
  {
   "cell_type": "code",
   "execution_count": 4,
   "id": "0f6a964c",
   "metadata": {},
   "outputs": [
    {
     "name": "stdout",
     "output_type": "stream",
     "text": [
      "(60000, 785)\n",
      "(10000, 785)\n"
     ]
    }
   ],
   "source": [
    "#Fashion MNIST data\n",
    "train = pd.read_csv(\"fashion-mnist_train.csv\")\n",
    "test = pd.read_csv(\"fashion-mnist_test.csv\")\n",
    "train_set = train.copy()\n",
    "test_set = test.copy()\n",
    "train_set.head()\n",
    "print(train_set.shape)\n",
    "print(test_set.shape)"
   ]
  },
  {
   "cell_type": "code",
   "execution_count": 5,
   "id": "fd93664f",
   "metadata": {},
   "outputs": [
    {
     "data": {
      "text/plain": [
       "array([2, 9, 6, 0, 3, 4, 5, 8, 7, 1])"
      ]
     },
     "execution_count": 5,
     "metadata": {},
     "output_type": "execute_result"
    }
   ],
   "source": [
    "train_set.label.unique()"
   ]
  },
  {
   "cell_type": "code",
   "execution_count": 6,
   "id": "4038005d",
   "metadata": {},
   "outputs": [],
   "source": [
    "#reshape and classify\n",
    "def data_preprocessing(raw):\n",
    "    label = tf.keras.utils.to_categorical(raw.label, 10)\n",
    "    num_images = raw.shape[0]\n",
    "    x_as_array = raw.values[:,1:]\n",
    "    x_shaped_array = x_as_array.reshape(num_images, 28, 28, 1)\n",
    "    image = x_shaped_array / 255\n",
    "    return image, label\n",
    "\n",
    "X, y = data_preprocessing(train_set)\n",
    "X_test, y_test = data_preprocessing(test_set)"
   ]
  },
  {
   "cell_type": "code",
   "execution_count": 7,
   "id": "f8b2c1af",
   "metadata": {},
   "outputs": [],
   "source": [
    "#validation\n",
    "X_train, X_val, y_train, y_val = sms.train_test_split(X, y, test_size=0.25, random_state=69)"
   ]
  },
  {
   "cell_type": "code",
   "execution_count": null,
   "id": "9c9754bb",
   "metadata": {},
   "outputs": [],
   "source": []
  },
  {
   "cell_type": "code",
   "execution_count": 8,
   "id": "d9e8aaab",
   "metadata": {},
   "outputs": [
    {
     "name": "stdout",
     "output_type": "stream",
     "text": [
      "Metal device set to: Apple M1 Max\n"
     ]
    },
    {
     "name": "stderr",
     "output_type": "stream",
     "text": [
      "2023-11-11 15:47:15.467285: I tensorflow/core/common_runtime/pluggable_device/pluggable_device_factory.cc:306] Could not identify NUMA node of platform GPU ID 0, defaulting to 0. Your kernel may not have been built with NUMA support.\n",
      "2023-11-11 15:47:15.467450: I tensorflow/core/common_runtime/pluggable_device/pluggable_device_factory.cc:272] Created TensorFlow device (/job:localhost/replica:0/task:0/device:GPU:0 with 0 MB memory) -> physical PluggableDevice (device: 0, name: METAL, pci bus id: <undefined>)\n"
     ]
    }
   ],
   "source": [
    "#cnn hyperparameters from kaggle: \n",
    "#https://www.kaggle.com/code/rutvikdeshpande/fashion-mnist-cnn-beginner-98 \n",
    "\n",
    "model = tf.keras.Sequential()\n",
    "\n",
    "# first layer\n",
    "model.add(Conv2D(32, (3,3), padding='same', input_shape=(28,28, 1)))\n",
    "model.add(tf.keras.layers.MaxPooling2D(pool_size=(2, 2)))\n",
    "model.add(BatchNormalization())\n",
    "\n",
    "# second layer\n",
    "model.add(Conv2D(64, (3,3), padding='same', activation=tf.nn.relu))\n",
    "model.add(tf.keras.layers.MaxPooling2D(pool_size=(2, 2)))\n",
    "model.add(BatchNormalization())\n",
    "model.add(Dropout(0.25))\n",
    "\n",
    "# Fully connected layer \n",
    "model.add(Flatten())\n",
    "model.add(Dense(128, activation=tf.nn.relu))\n",
    "model.add(BatchNormalization())\n",
    "\n",
    "# Output layer \n",
    "model.add(Dense(10, activation=tf.nn.softmax))"
   ]
  },
  {
   "cell_type": "code",
   "execution_count": 9,
   "id": "c9046753",
   "metadata": {},
   "outputs": [
    {
     "name": "stdout",
     "output_type": "stream",
     "text": [
      "Model: \"sequential\"\n",
      "_________________________________________________________________\n",
      " Layer (type)                Output Shape              Param #   \n",
      "=================================================================\n",
      " conv2d (Conv2D)             (None, 28, 28, 32)        320       \n",
      "                                                                 \n",
      " max_pooling2d (MaxPooling2D  (None, 14, 14, 32)       0         \n",
      " )                                                               \n",
      "                                                                 \n",
      " batch_normalization (BatchN  (None, 14, 14, 32)       128       \n",
      " ormalization)                                                   \n",
      "                                                                 \n",
      " conv2d_1 (Conv2D)           (None, 14, 14, 64)        18496     \n",
      "                                                                 \n",
      " max_pooling2d_1 (MaxPooling  (None, 7, 7, 64)         0         \n",
      " 2D)                                                             \n",
      "                                                                 \n",
      " batch_normalization_1 (Batc  (None, 7, 7, 64)         256       \n",
      " hNormalization)                                                 \n",
      "                                                                 \n",
      " dropout (Dropout)           (None, 7, 7, 64)          0         \n",
      "                                                                 \n",
      " flatten (Flatten)           (None, 3136)              0         \n",
      "                                                                 \n",
      " dense (Dense)               (None, 128)               401536    \n",
      "                                                                 \n",
      " batch_normalization_2 (Batc  (None, 128)              512       \n",
      " hNormalization)                                                 \n",
      "                                                                 \n",
      " dense_1 (Dense)             (None, 10)                1290      \n",
      "                                                                 \n",
      "=================================================================\n",
      "Total params: 422,538\n",
      "Trainable params: 422,090\n",
      "Non-trainable params: 448\n",
      "_________________________________________________________________\n"
     ]
    }
   ],
   "source": [
    "model.summary()\n"
   ]
  },
  {
   "cell_type": "code",
   "execution_count": 10,
   "id": "e0101815",
   "metadata": {},
   "outputs": [],
   "source": [
    "model.compile(optimizer='adam',\n",
    "              loss=tf.keras.losses.categorical_crossentropy,\n",
    "              metrics=['accuracy'])"
   ]
  },
  {
   "cell_type": "code",
   "execution_count": 11,
   "id": "a86c6d6c",
   "metadata": {},
   "outputs": [],
   "source": [
    "reduce_lr = LearningRateScheduler(lambda x: 1e-3 * 0.9 ** x)"
   ]
  },
  {
   "cell_type": "code",
   "execution_count": 12,
   "id": "56351833",
   "metadata": {},
   "outputs": [],
   "source": [
    "#data augmentation from https://www.kaggle.com/code/fuzzywizard/fashion-mnist-cnn-keras-accuracy-93/notebook\n",
    "\n",
    "datagen = ImageDataGenerator(\n",
    "        rotation_range = 8,  # randomly rotate images in the range (degrees, 0 to 180)\n",
    "        zoom_range = 0.1, # Randomly zoom image \n",
    "        shear_range = 0.3,# shear angle in counter-clockwise direction in degrees  \n",
    "        width_shift_range=0.08,  # randomly shift images horizontally (fraction of total width)\n",
    "        height_shift_range=0.08,  # randomly shift images vertically (fraction of total height)\n",
    "        vertical_flip=True)  # randomly flip images"
   ]
  },
  {
   "cell_type": "code",
   "execution_count": 13,
   "id": "09c27600",
   "metadata": {},
   "outputs": [],
   "source": [
    "#training"
   ]
  },
  {
   "cell_type": "code",
   "execution_count": 14,
   "id": "ea443a5d",
   "metadata": {},
   "outputs": [
    {
     "name": "stderr",
     "output_type": "stream",
     "text": [
      "/var/folders/vt/50rt81d15835tww3hmfy4dl00000gn/T/ipykernel_35665/3608375265.py:4: UserWarning: `Model.fit_generator` is deprecated and will be removed in a future version. Please use `Model.fit`, which supports generators.\n",
      "  history = model.fit_generator(datagen.flow(X_train, y_train, batch_size = batch_size), epochs = epochs,\n"
     ]
    },
    {
     "name": "stdout",
     "output_type": "stream",
     "text": [
      "Epoch 1/100\n"
     ]
    },
    {
     "name": "stderr",
     "output_type": "stream",
     "text": [
      "2023-11-11 15:47:15.710484: W tensorflow/core/platform/profile_utils/cpu_utils.cc:128] Failed to get CPU frequency: 0 Hz\n",
      "2023-11-11 15:47:16.093791: I tensorflow/core/grappler/optimizers/custom_graph_optimizer_registry.cc:114] Plugin optimizer for device_type GPU is enabled.\n",
      "2023-11-11 15:47:22.284287: I tensorflow/core/grappler/optimizers/custom_graph_optimizer_registry.cc:114] Plugin optimizer for device_type GPU is enabled.\n"
     ]
    },
    {
     "name": "stdout",
     "output_type": "stream",
     "text": [
      "351/351 - 10s - loss: 0.6443 - accuracy: 0.7621 - val_loss: 2.7942 - val_accuracy: 0.2793 - lr: 0.0010 - 10s/epoch - 29ms/step\n",
      "Epoch 2/100\n",
      "351/351 - 9s - loss: 0.4790 - accuracy: 0.8220 - val_loss: 0.4222 - val_accuracy: 0.8472 - lr: 9.0000e-04 - 9s/epoch - 26ms/step\n",
      "Epoch 3/100\n",
      "351/351 - 9s - loss: 0.4269 - accuracy: 0.8413 - val_loss: 0.3745 - val_accuracy: 0.8612 - lr: 8.1000e-04 - 9s/epoch - 26ms/step\n",
      "Epoch 4/100\n",
      "351/351 - 9s - loss: 0.4026 - accuracy: 0.8495 - val_loss: 0.4571 - val_accuracy: 0.8186 - lr: 7.2900e-04 - 9s/epoch - 26ms/step\n",
      "Epoch 5/100\n",
      "351/351 - 9s - loss: 0.3769 - accuracy: 0.8597 - val_loss: 0.3270 - val_accuracy: 0.8799 - lr: 6.5610e-04 - 9s/epoch - 26ms/step\n",
      "Epoch 6/100\n",
      "351/351 - 9s - loss: 0.3631 - accuracy: 0.8655 - val_loss: 0.3068 - val_accuracy: 0.8891 - lr: 5.9049e-04 - 9s/epoch - 26ms/step\n",
      "Epoch 7/100\n",
      "351/351 - 9s - loss: 0.3492 - accuracy: 0.8713 - val_loss: 0.3074 - val_accuracy: 0.8877 - lr: 5.3144e-04 - 9s/epoch - 27ms/step\n",
      "Epoch 8/100\n",
      "351/351 - 9s - loss: 0.3407 - accuracy: 0.8748 - val_loss: 0.2837 - val_accuracy: 0.8979 - lr: 4.7830e-04 - 9s/epoch - 27ms/step\n",
      "Epoch 9/100\n",
      "351/351 - 9s - loss: 0.3316 - accuracy: 0.8775 - val_loss: 0.3064 - val_accuracy: 0.8903 - lr: 4.3047e-04 - 9s/epoch - 26ms/step\n",
      "Epoch 10/100\n",
      "351/351 - 9s - loss: 0.3205 - accuracy: 0.8799 - val_loss: 0.3218 - val_accuracy: 0.8793 - lr: 3.8742e-04 - 9s/epoch - 26ms/step\n",
      "Epoch 11/100\n",
      "351/351 - 9s - loss: 0.3128 - accuracy: 0.8835 - val_loss: 0.3283 - val_accuracy: 0.8764 - lr: 3.4868e-04 - 9s/epoch - 26ms/step\n",
      "Epoch 12/100\n",
      "351/351 - 9s - loss: 0.3079 - accuracy: 0.8845 - val_loss: 0.3211 - val_accuracy: 0.8830 - lr: 3.1381e-04 - 9s/epoch - 26ms/step\n",
      "Epoch 13/100\n",
      "351/351 - 9s - loss: 0.3062 - accuracy: 0.8867 - val_loss: 0.2608 - val_accuracy: 0.9069 - lr: 2.8243e-04 - 9s/epoch - 27ms/step\n",
      "Epoch 14/100\n",
      "351/351 - 9s - loss: 0.2968 - accuracy: 0.8899 - val_loss: 0.2961 - val_accuracy: 0.8969 - lr: 2.5419e-04 - 9s/epoch - 26ms/step\n",
      "Epoch 15/100\n",
      "351/351 - 9s - loss: 0.2936 - accuracy: 0.8916 - val_loss: 0.2634 - val_accuracy: 0.9047 - lr: 2.2877e-04 - 9s/epoch - 26ms/step\n",
      "Epoch 16/100\n",
      "351/351 - 9s - loss: 0.2937 - accuracy: 0.8903 - val_loss: 0.2661 - val_accuracy: 0.9054 - lr: 2.0589e-04 - 9s/epoch - 26ms/step\n",
      "Epoch 17/100\n",
      "351/351 - 9s - loss: 0.2872 - accuracy: 0.8937 - val_loss: 0.2668 - val_accuracy: 0.9027 - lr: 1.8530e-04 - 9s/epoch - 26ms/step\n",
      "Epoch 18/100\n",
      "351/351 - 9s - loss: 0.2823 - accuracy: 0.8945 - val_loss: 0.2719 - val_accuracy: 0.9005 - lr: 1.6677e-04 - 9s/epoch - 26ms/step\n",
      "Epoch 19/100\n",
      "351/351 - 9s - loss: 0.2827 - accuracy: 0.8959 - val_loss: 0.2502 - val_accuracy: 0.9106 - lr: 1.5009e-04 - 9s/epoch - 26ms/step\n",
      "Epoch 20/100\n",
      "351/351 - 9s - loss: 0.2761 - accuracy: 0.8974 - val_loss: 0.2605 - val_accuracy: 0.9065 - lr: 1.3509e-04 - 9s/epoch - 26ms/step\n",
      "Epoch 21/100\n",
      "351/351 - 9s - loss: 0.2776 - accuracy: 0.8968 - val_loss: 0.2560 - val_accuracy: 0.9084 - lr: 1.2158e-04 - 9s/epoch - 26ms/step\n",
      "Epoch 22/100\n",
      "351/351 - 9s - loss: 0.2757 - accuracy: 0.8986 - val_loss: 0.2601 - val_accuracy: 0.9079 - lr: 1.0942e-04 - 9s/epoch - 26ms/step\n",
      "Epoch 23/100\n",
      "351/351 - 9s - loss: 0.2710 - accuracy: 0.8994 - val_loss: 0.2616 - val_accuracy: 0.9067 - lr: 9.8477e-05 - 9s/epoch - 26ms/step\n",
      "Epoch 24/100\n",
      "351/351 - 9s - loss: 0.2700 - accuracy: 0.9001 - val_loss: 0.3020 - val_accuracy: 0.8887 - lr: 8.8629e-05 - 9s/epoch - 26ms/step\n",
      "Epoch 25/100\n",
      "351/351 - 9s - loss: 0.2680 - accuracy: 0.8996 - val_loss: 0.2732 - val_accuracy: 0.9034 - lr: 7.9766e-05 - 9s/epoch - 26ms/step\n",
      "Epoch 26/100\n",
      "351/351 - 9s - loss: 0.2695 - accuracy: 0.8996 - val_loss: 0.2497 - val_accuracy: 0.9123 - lr: 7.1790e-05 - 9s/epoch - 26ms/step\n",
      "Epoch 27/100\n",
      "351/351 - 9s - loss: 0.2657 - accuracy: 0.9016 - val_loss: 0.2454 - val_accuracy: 0.9131 - lr: 6.4611e-05 - 9s/epoch - 26ms/step\n",
      "Epoch 28/100\n",
      "351/351 - 9s - loss: 0.2633 - accuracy: 0.9027 - val_loss: 0.2578 - val_accuracy: 0.9081 - lr: 5.8150e-05 - 9s/epoch - 26ms/step\n",
      "Epoch 29/100\n",
      "351/351 - 9s - loss: 0.2628 - accuracy: 0.9025 - val_loss: 0.2605 - val_accuracy: 0.9068 - lr: 5.2335e-05 - 9s/epoch - 26ms/step\n",
      "Epoch 30/100\n",
      "351/351 - 9s - loss: 0.2641 - accuracy: 0.9023 - val_loss: 0.2501 - val_accuracy: 0.9100 - lr: 4.7101e-05 - 9s/epoch - 26ms/step\n",
      "Epoch 31/100\n",
      "351/351 - 9s - loss: 0.2602 - accuracy: 0.9052 - val_loss: 0.2761 - val_accuracy: 0.8997 - lr: 4.2391e-05 - 9s/epoch - 26ms/step\n",
      "Epoch 32/100\n",
      "351/351 - 9s - loss: 0.2596 - accuracy: 0.9034 - val_loss: 0.2544 - val_accuracy: 0.9081 - lr: 3.8152e-05 - 9s/epoch - 26ms/step\n",
      "Epoch 33/100\n",
      "351/351 - 9s - loss: 0.2591 - accuracy: 0.9048 - val_loss: 0.2625 - val_accuracy: 0.9054 - lr: 3.4337e-05 - 9s/epoch - 26ms/step\n",
      "Epoch 34/100\n",
      "351/351 - 9s - loss: 0.2549 - accuracy: 0.9067 - val_loss: 0.2468 - val_accuracy: 0.9135 - lr: 3.0903e-05 - 9s/epoch - 27ms/step\n",
      "Epoch 35/100\n",
      "351/351 - 10s - loss: 0.2560 - accuracy: 0.9057 - val_loss: 0.2534 - val_accuracy: 0.9095 - lr: 2.7813e-05 - 10s/epoch - 28ms/step\n",
      "Epoch 36/100\n",
      "351/351 - 9s - loss: 0.2544 - accuracy: 0.9049 - val_loss: 0.2462 - val_accuracy: 0.9122 - lr: 2.5032e-05 - 9s/epoch - 26ms/step\n",
      "Epoch 37/100\n",
      "351/351 - 9s - loss: 0.2569 - accuracy: 0.9059 - val_loss: 0.2530 - val_accuracy: 0.9097 - lr: 2.2528e-05 - 9s/epoch - 27ms/step\n",
      "Epoch 38/100\n",
      "351/351 - 10s - loss: 0.2576 - accuracy: 0.9041 - val_loss: 0.2500 - val_accuracy: 0.9111 - lr: 2.0276e-05 - 10s/epoch - 27ms/step\n",
      "Epoch 39/100\n",
      "351/351 - 9s - loss: 0.2565 - accuracy: 0.9044 - val_loss: 0.2487 - val_accuracy: 0.9113 - lr: 1.8248e-05 - 9s/epoch - 26ms/step\n",
      "Epoch 40/100\n",
      "351/351 - 9s - loss: 0.2553 - accuracy: 0.9067 - val_loss: 0.2661 - val_accuracy: 0.9044 - lr: 1.6423e-05 - 9s/epoch - 26ms/step\n",
      "Epoch 41/100\n",
      "351/351 - 9s - loss: 0.2542 - accuracy: 0.9059 - val_loss: 0.2512 - val_accuracy: 0.9105 - lr: 1.4781e-05 - 9s/epoch - 27ms/step\n",
      "Epoch 42/100\n",
      "351/351 - 9s - loss: 0.2527 - accuracy: 0.9074 - val_loss: 0.2519 - val_accuracy: 0.9099 - lr: 1.3303e-05 - 9s/epoch - 26ms/step\n",
      "Epoch 43/100\n",
      "351/351 - 9s - loss: 0.2548 - accuracy: 0.9060 - val_loss: 0.2502 - val_accuracy: 0.9100 - lr: 1.1973e-05 - 9s/epoch - 26ms/step\n",
      "Epoch 44/100\n",
      "351/351 - 9s - loss: 0.2547 - accuracy: 0.9056 - val_loss: 0.2489 - val_accuracy: 0.9118 - lr: 1.0775e-05 - 9s/epoch - 26ms/step\n",
      "Epoch 45/100\n",
      "351/351 - 9s - loss: 0.2550 - accuracy: 0.9051 - val_loss: 0.2516 - val_accuracy: 0.9099 - lr: 9.6977e-06 - 9s/epoch - 26ms/step\n",
      "Epoch 46/100\n",
      "351/351 - 9s - loss: 0.2533 - accuracy: 0.9060 - val_loss: 0.2505 - val_accuracy: 0.9103 - lr: 8.7280e-06 - 9s/epoch - 26ms/step\n",
      "Epoch 47/100\n",
      "351/351 - 9s - loss: 0.2515 - accuracy: 0.9072 - val_loss: 0.2513 - val_accuracy: 0.9095 - lr: 7.8552e-06 - 9s/epoch - 26ms/step\n",
      "Epoch 48/100\n",
      "351/351 - 9s - loss: 0.2526 - accuracy: 0.9075 - val_loss: 0.2507 - val_accuracy: 0.9103 - lr: 7.0697e-06 - 9s/epoch - 26ms/step\n",
      "Epoch 49/100\n",
      "351/351 - 9s - loss: 0.2538 - accuracy: 0.9064 - val_loss: 0.2469 - val_accuracy: 0.9121 - lr: 6.3627e-06 - 9s/epoch - 26ms/step\n",
      "Epoch 50/100\n",
      "351/351 - 9s - loss: 0.2511 - accuracy: 0.9082 - val_loss: 0.2509 - val_accuracy: 0.9097 - lr: 5.7264e-06 - 9s/epoch - 26ms/step\n",
      "Epoch 51/100\n",
      "351/351 - 9s - loss: 0.2529 - accuracy: 0.9073 - val_loss: 0.2540 - val_accuracy: 0.9086 - lr: 5.1538e-06 - 9s/epoch - 26ms/step\n",
      "Epoch 52/100\n",
      "351/351 - 9s - loss: 0.2513 - accuracy: 0.9081 - val_loss: 0.2496 - val_accuracy: 0.9112 - lr: 4.6384e-06 - 9s/epoch - 26ms/step\n",
      "Epoch 53/100\n",
      "351/351 - 9s - loss: 0.2526 - accuracy: 0.9078 - val_loss: 0.2517 - val_accuracy: 0.9105 - lr: 4.1746e-06 - 9s/epoch - 27ms/step\n",
      "Epoch 54/100\n",
      "351/351 - 9s - loss: 0.2539 - accuracy: 0.9043 - val_loss: 0.2511 - val_accuracy: 0.9107 - lr: 3.7571e-06 - 9s/epoch - 26ms/step\n",
      "Epoch 55/100\n",
      "351/351 - 9s - loss: 0.2540 - accuracy: 0.9070 - val_loss: 0.2530 - val_accuracy: 0.9095 - lr: 3.3814e-06 - 9s/epoch - 26ms/step\n",
      "Epoch 56/100\n",
      "351/351 - 9s - loss: 0.2530 - accuracy: 0.9065 - val_loss: 0.2520 - val_accuracy: 0.9097 - lr: 3.0433e-06 - 9s/epoch - 26ms/step\n",
      "Epoch 57/100\n",
      "351/351 - 9s - loss: 0.2548 - accuracy: 0.9057 - val_loss: 0.2506 - val_accuracy: 0.9101 - lr: 2.7389e-06 - 9s/epoch - 26ms/step\n",
      "Epoch 58/100\n",
      "351/351 - 9s - loss: 0.2543 - accuracy: 0.9048 - val_loss: 0.2514 - val_accuracy: 0.9099 - lr: 2.4650e-06 - 9s/epoch - 26ms/step\n"
     ]
    },
    {
     "name": "stdout",
     "output_type": "stream",
     "text": [
      "Epoch 59/100\n",
      "351/351 - 9s - loss: 0.2534 - accuracy: 0.9053 - val_loss: 0.2518 - val_accuracy: 0.9100 - lr: 2.2185e-06 - 9s/epoch - 26ms/step\n",
      "Epoch 60/100\n",
      "351/351 - 9s - loss: 0.2518 - accuracy: 0.9072 - val_loss: 0.2504 - val_accuracy: 0.9104 - lr: 1.9967e-06 - 9s/epoch - 26ms/step\n",
      "Epoch 61/100\n",
      "351/351 - 9s - loss: 0.2517 - accuracy: 0.9061 - val_loss: 0.2487 - val_accuracy: 0.9115 - lr: 1.7970e-06 - 9s/epoch - 26ms/step\n",
      "Epoch 62/100\n",
      "351/351 - 9s - loss: 0.2554 - accuracy: 0.9058 - val_loss: 0.2492 - val_accuracy: 0.9106 - lr: 1.6173e-06 - 9s/epoch - 26ms/step\n",
      "Epoch 63/100\n",
      "351/351 - 9s - loss: 0.2528 - accuracy: 0.9055 - val_loss: 0.2512 - val_accuracy: 0.9100 - lr: 1.4556e-06 - 9s/epoch - 26ms/step\n",
      "Epoch 64/100\n",
      "351/351 - 9s - loss: 0.2554 - accuracy: 0.9057 - val_loss: 0.2506 - val_accuracy: 0.9103 - lr: 1.3100e-06 - 9s/epoch - 26ms/step\n",
      "Epoch 65/100\n",
      "351/351 - 9s - loss: 0.2503 - accuracy: 0.9067 - val_loss: 0.2494 - val_accuracy: 0.9109 - lr: 1.1790e-06 - 9s/epoch - 26ms/step\n",
      "Epoch 66/100\n",
      "351/351 - 9s - loss: 0.2535 - accuracy: 0.9076 - val_loss: 0.2501 - val_accuracy: 0.9107 - lr: 1.0611e-06 - 9s/epoch - 26ms/step\n",
      "Epoch 67/100\n",
      "351/351 - 9s - loss: 0.2522 - accuracy: 0.9082 - val_loss: 0.2507 - val_accuracy: 0.9105 - lr: 9.5500e-07 - 9s/epoch - 26ms/step\n",
      "Epoch 68/100\n",
      "351/351 - 9s - loss: 0.2501 - accuracy: 0.9066 - val_loss: 0.2505 - val_accuracy: 0.9107 - lr: 8.5950e-07 - 9s/epoch - 26ms/step\n",
      "Epoch 69/100\n",
      "351/351 - 9s - loss: 0.2538 - accuracy: 0.9073 - val_loss: 0.2493 - val_accuracy: 0.9114 - lr: 7.7355e-07 - 9s/epoch - 26ms/step\n",
      "Epoch 70/100\n",
      "351/351 - 9s - loss: 0.2522 - accuracy: 0.9053 - val_loss: 0.2503 - val_accuracy: 0.9109 - lr: 6.9620e-07 - 9s/epoch - 26ms/step\n",
      "Epoch 71/100\n",
      "351/351 - 9s - loss: 0.2515 - accuracy: 0.9079 - val_loss: 0.2497 - val_accuracy: 0.9108 - lr: 6.2658e-07 - 9s/epoch - 26ms/step\n",
      "Epoch 72/100\n",
      "351/351 - 9s - loss: 0.2536 - accuracy: 0.9050 - val_loss: 0.2514 - val_accuracy: 0.9102 - lr: 5.6392e-07 - 9s/epoch - 26ms/step\n",
      "Epoch 73/100\n",
      "351/351 - 9s - loss: 0.2535 - accuracy: 0.9061 - val_loss: 0.2507 - val_accuracy: 0.9105 - lr: 5.0753e-07 - 9s/epoch - 26ms/step\n",
      "Epoch 74/100\n",
      "351/351 - 9s - loss: 0.2523 - accuracy: 0.9070 - val_loss: 0.2511 - val_accuracy: 0.9107 - lr: 4.5678e-07 - 9s/epoch - 26ms/step\n",
      "Epoch 75/100\n",
      "351/351 - 9s - loss: 0.2511 - accuracy: 0.9068 - val_loss: 0.2513 - val_accuracy: 0.9106 - lr: 4.1110e-07 - 9s/epoch - 26ms/step\n",
      "Epoch 76/100\n",
      "351/351 - 9s - loss: 0.2528 - accuracy: 0.9045 - val_loss: 0.2500 - val_accuracy: 0.9109 - lr: 3.6999e-07 - 9s/epoch - 26ms/step\n",
      "Epoch 77/100\n",
      "351/351 - 9s - loss: 0.2522 - accuracy: 0.9072 - val_loss: 0.2510 - val_accuracy: 0.9105 - lr: 3.3299e-07 - 9s/epoch - 26ms/step\n",
      "Epoch 78/100\n",
      "351/351 - 9s - loss: 0.2510 - accuracy: 0.9063 - val_loss: 0.2505 - val_accuracy: 0.9104 - lr: 2.9969e-07 - 9s/epoch - 26ms/step\n",
      "Epoch 79/100\n",
      "351/351 - 9s - loss: 0.2525 - accuracy: 0.9069 - val_loss: 0.2501 - val_accuracy: 0.9105 - lr: 2.6972e-07 - 9s/epoch - 26ms/step\n",
      "Epoch 80/100\n",
      "351/351 - 9s - loss: 0.2548 - accuracy: 0.9051 - val_loss: 0.2504 - val_accuracy: 0.9105 - lr: 2.4275e-07 - 9s/epoch - 26ms/step\n",
      "Epoch 81/100\n",
      "351/351 - 9s - loss: 0.2544 - accuracy: 0.9052 - val_loss: 0.2504 - val_accuracy: 0.9105 - lr: 2.1847e-07 - 9s/epoch - 27ms/step\n",
      "Epoch 82/100\n",
      "351/351 - 9s - loss: 0.2528 - accuracy: 0.9068 - val_loss: 0.2509 - val_accuracy: 0.9105 - lr: 1.9663e-07 - 9s/epoch - 26ms/step\n",
      "Epoch 83/100\n",
      "351/351 - 10s - loss: 0.2530 - accuracy: 0.9069 - val_loss: 0.2504 - val_accuracy: 0.9105 - lr: 1.7696e-07 - 10s/epoch - 28ms/step\n",
      "Epoch 84/100\n",
      "351/351 - 10s - loss: 0.2537 - accuracy: 0.9056 - val_loss: 0.2499 - val_accuracy: 0.9110 - lr: 1.5927e-07 - 10s/epoch - 28ms/step\n",
      "Epoch 85/100\n",
      "351/351 - 9s - loss: 0.2525 - accuracy: 0.9069 - val_loss: 0.2510 - val_accuracy: 0.9106 - lr: 1.4334e-07 - 9s/epoch - 27ms/step\n",
      "Epoch 86/100\n",
      "351/351 - 10s - loss: 0.2517 - accuracy: 0.9066 - val_loss: 0.2510 - val_accuracy: 0.9104 - lr: 1.2901e-07 - 10s/epoch - 27ms/step\n",
      "Epoch 87/100\n",
      "351/351 - 9s - loss: 0.2506 - accuracy: 0.9070 - val_loss: 0.2500 - val_accuracy: 0.9111 - lr: 1.1611e-07 - 9s/epoch - 26ms/step\n",
      "Epoch 88/100\n",
      "351/351 - 9s - loss: 0.2520 - accuracy: 0.9070 - val_loss: 0.2506 - val_accuracy: 0.9106 - lr: 1.0450e-07 - 9s/epoch - 26ms/step\n",
      "Epoch 89/100\n",
      "351/351 - 9s - loss: 0.2546 - accuracy: 0.9058 - val_loss: 0.2506 - val_accuracy: 0.9107 - lr: 9.4046e-08 - 9s/epoch - 27ms/step\n",
      "Epoch 90/100\n",
      "351/351 - 10s - loss: 0.2504 - accuracy: 0.9074 - val_loss: 0.2504 - val_accuracy: 0.9107 - lr: 8.4641e-08 - 10s/epoch - 28ms/step\n",
      "Epoch 91/100\n",
      "351/351 - 9s - loss: 0.2529 - accuracy: 0.9055 - val_loss: 0.2504 - val_accuracy: 0.9106 - lr: 7.6177e-08 - 9s/epoch - 27ms/step\n",
      "Epoch 92/100\n",
      "351/351 - 9s - loss: 0.2521 - accuracy: 0.9070 - val_loss: 0.2505 - val_accuracy: 0.9107 - lr: 6.8560e-08 - 9s/epoch - 26ms/step\n",
      "Epoch 93/100\n",
      "351/351 - 9s - loss: 0.2514 - accuracy: 0.9070 - val_loss: 0.2499 - val_accuracy: 0.9111 - lr: 6.1704e-08 - 9s/epoch - 26ms/step\n",
      "Epoch 94/100\n",
      "351/351 - 9s - loss: 0.2534 - accuracy: 0.9068 - val_loss: 0.2504 - val_accuracy: 0.9106 - lr: 5.5533e-08 - 9s/epoch - 26ms/step\n",
      "Epoch 95/100\n",
      "351/351 - 9s - loss: 0.2528 - accuracy: 0.9064 - val_loss: 0.2506 - val_accuracy: 0.9106 - lr: 4.9980e-08 - 9s/epoch - 26ms/step\n",
      "Epoch 96/100\n",
      "351/351 - 9s - loss: 0.2515 - accuracy: 0.9081 - val_loss: 0.2510 - val_accuracy: 0.9104 - lr: 4.4982e-08 - 9s/epoch - 26ms/step\n",
      "Epoch 97/100\n",
      "351/351 - 9s - loss: 0.2554 - accuracy: 0.9044 - val_loss: 0.2496 - val_accuracy: 0.9111 - lr: 4.0484e-08 - 9s/epoch - 26ms/step\n",
      "Epoch 98/100\n",
      "351/351 - 9s - loss: 0.2517 - accuracy: 0.9076 - val_loss: 0.2506 - val_accuracy: 0.9107 - lr: 3.6435e-08 - 9s/epoch - 26ms/step\n",
      "Epoch 99/100\n",
      "351/351 - 9s - loss: 0.2526 - accuracy: 0.9074 - val_loss: 0.2502 - val_accuracy: 0.9109 - lr: 3.2792e-08 - 9s/epoch - 27ms/step\n",
      "Epoch 100/100\n",
      "351/351 - 10s - loss: 0.2521 - accuracy: 0.9057 - val_loss: 0.2508 - val_accuracy: 0.9105 - lr: 2.9513e-08 - 10s/epoch - 27ms/step\n"
     ]
    }
   ],
   "source": [
    "batch_size = 128\n",
    "epochs = 100\n",
    "\n",
    "history = model.fit_generator(datagen.flow(X_train, y_train, batch_size = batch_size), epochs = epochs, \n",
    "                              validation_data = (X_val, y_val), verbose=2, \n",
    "                              steps_per_epoch=X_train.shape[0] // batch_size,\n",
    "                              callbacks = [reduce_lr])"
   ]
  },
  {
   "cell_type": "code",
   "execution_count": 16,
   "id": "1956c328",
   "metadata": {},
   "outputs": [
    {
     "name": "stdout",
     "output_type": "stream",
     "text": [
      "313/313 [==============================] - 3s 9ms/step - loss: 0.2357 - accuracy: 0.9127\n",
      "Loss: 0.2357\n",
      "Accuracy: 0.9127\n"
     ]
    }
   ],
   "source": [
    "#test model\n",
    "score = model.evaluate(X_test,y_test)\n",
    "print(\"Loss: {:.4f}\".format(score[0]))\n",
    "print(\"Accuracy: {:.4f}\".format(score[1]))"
   ]
  },
  {
   "cell_type": "code",
   "execution_count": 17,
   "id": "5415274e",
   "metadata": {},
   "outputs": [],
   "source": [
    "model.save('ecoThreads_classification_model.keras')"
   ]
  }
 ],
 "metadata": {
  "kernelspec": {
   "display_name": "Python 3 (mdsc523)",
   "language": "python",
   "name": "mdsc523"
  },
  "language_info": {
   "codemirror_mode": {
    "name": "ipython",
    "version": 3
   },
   "file_extension": ".py",
   "mimetype": "text/x-python",
   "name": "python",
   "nbconvert_exporter": "python",
   "pygments_lexer": "ipython3",
   "version": "3.10.3"
  }
 },
 "nbformat": 4,
 "nbformat_minor": 5
}
